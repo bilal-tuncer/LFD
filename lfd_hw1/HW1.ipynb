{
 "cells": [
  {
   "cell_type": "markdown",
   "metadata": {},
   "source": [
    "# BLG454E Learning From Data Homework 1\n",
    "\n",
    "Before starting, read the README.txt file. If you have any questions, send an e-mail at kamard@itu.edu.tr.\n"
   ]
  },
  {
   "cell_type": "code",
   "execution_count": 1,
   "metadata": {},
   "outputs": [],
   "source": [
    "import numpy as np\n",
    "import matplotlib.pyplot as plt\n",
    "import pandas as pd"
   ]
  },
  {
   "cell_type": "markdown",
   "metadata": {},
   "source": [
    "# Part 1: Simple Linear Regression  (30 points)\n",
    "\n",
    "### Background\n",
    "\n",
    "Remember from the course material: In Linear Regression, we aim to find the line that fits the given data as well as possible. The line formula is:\n",
    "\n",
    "### <center> $ \\hat{y} = f(x) = \\beta_0 + \\beta_1 x $ <center> \n",
    "\n",
    "And using linear regression, the goal is to find the $\\beta_0$ and $\\beta_1$ such that the the Mean Squared Error (MSE) is minimized:\n",
    "    \n",
    "### <center> $ MSE \\Rightarrow \\mathcal{L} = \\dfrac{1}{N} \\sum_{i=1}^{N} (y_i - f(x_i ))^2 $ <center> \n",
    "    \n",
    "As the MSE error gets smaller, the line starts to represent the data better and better.\n",
    "    \n",
    "Consider $\\beta = (\\beta_0 + \\beta_1)$. In order to find the $\\beta$ that minimizes the MSE loss, we use **Gradient Descent**. Iteratively $\\beta$ is updated in the opposite direction of the gradient, while the size of the update is controlled with the learning rate $\\eta$:\n",
    "    \n",
    "### <center> $ \\beta \\leftarrow \\beta-\\eta \\frac{d \\mathcal{L}}{d \\beta} $ <center> \n",
    "\n",
    "### Your Task\n",
    "\n",
    "In this part, you are going to code up Simple Linear Regression on the data given in **data1.csv**, and find the line that fits the data best. To do so, you'll need to complete the following:\n",
    "\n",
    "- Code up the gradient descent, and print the loss value at every time step. You can use the number of steps as the stopping criteria (e.g. stopping gradient descent after 10 steps). \n",
    "- At the end of the algorithm, plot the found line with the data.\n",
    "    \n",
    "Given learning rate and number of iterations as default values in the code should work, but you are free to change them to make your algorithm faster if you'd like. You are not allowed to use any libraries other than the imported ones at the beginning. You can initialize the $\\beta$ randomly."
   ]
  },
  {
   "cell_type": "code",
   "execution_count": 2,
   "metadata": {},
   "outputs": [],
   "source": [
    "def load_data():\n",
    "    df = pd.read_csv(\"data1.csv\")\n",
    "    x = df['x'].values\n",
    "    y = df['y'].values\n",
    "    return x, y\n",
    "\n",
    "\n",
    "def gradient_descent(x, y, learning_rate = 0.1, max_its = 500):\n",
    "    #TO DO: Initialize the beta values\n",
    "    beta0 = np.random.rand()\n",
    "    beta1 = np.random.rand()\n",
    "\n",
    "    # start gradient descent loop\n",
    "    for k in range(0,max_its):\n",
    "        # TO DO: calculate derivative (grad)\n",
    "        gradient = np.array([\n",
    "            np.mean(-2*(y-beta0-beta1*x)),\n",
    "            np.mean(-2*x*(y-beta0-beta1*x))\n",
    "        ])\n",
    "        \n",
    "        # TO DO: take gradient descent step\n",
    "        \n",
    "        beta0,beta1 = np.array([beta0,beta1]) - learning_rate*gradient\n",
    "        \n",
    "        # TO DO: calculate and print the loss value\n",
    "        Loss = np.mean((y - beta0 - beta1*x)**2)\n",
    "        if not (k % 25):\n",
    "            print(Loss)\n",
    "        \n",
    "    return beta0, beta1"
   ]
  },
  {
   "cell_type": "code",
   "execution_count": 3,
   "metadata": {},
   "outputs": [
    {
     "name": "stdout",
     "output_type": "stream",
     "text": [
      "1.2752218161044575\n",
      "0.003220862492372365\n",
      "0.0026720477167881938\n",
      "0.0023846196981946264\n",
      "0.0022336435681739567\n",
      "0.0021543409583961027\n",
      "0.0021126860032934813\n",
      "0.0020908060766496807\n",
      "0.0020793132977291726\n",
      "0.0020732765330970988\n",
      "0.002070105626610937\n",
      "0.0020684400576254313\n",
      "0.0020675651910667405\n",
      "0.0020671056535140025\n",
      "0.00206686427411702\n",
      "0.002066737485755677\n",
      "0.002066670888155496\n",
      "0.0020666359067084386\n",
      "0.00206661753214787\n",
      "0.002066607880618145\n",
      "Final beta: 1.346004249921326,0.8282993610235067\n"
     ]
    },
    {
     "data": {
      "image/png": "[encoded data removed]",
      "text/plain": [
       "<Figure size 640x480 with 1 Axes>"
      ]
     },
     "metadata": {},
     "output_type": "display_data"
    }
   ],
   "source": [
    "x, y = load_data()\n",
    "beta0, beta1 = gradient_descent(x, y)\n",
    "print(\"Final beta: {},{}\".format(beta0,beta1))\n",
    "# TO DO: Plot the data AND the line!\n",
    "y_estimated = beta0 + beta1*x\n",
    "plt.plot(x,y_estimated)\n",
    "plt.plot(x,y,'ro')\n",
    "plt.title(\"Graph\")\n",
    "plt.show()"
   ]
  },
  {
   "cell_type": "markdown",
   "metadata": {},
   "source": [
    "# Part 2: Multi Linear Regression on California House Pricing Dataset using 5-fold Cross Validation (50 points)\n",
    "\n",
    "In this part, you are going to train a Multi Linear Regression Model on a real dataset! The dataset we are going to use is **California House Pricing Dataset**. The target is to predict the median house value in California, given the 8 features ( You can examine the name of the features when you run the load_data function given below ). In this part, you will also use Cross-Validation with 5 folds, in addition to everything you implemented in Part 1. You will also alter your code so that it works with multiple attribute. In this case, you will have 8 features and you can code up assuming you will always have 8 features. At the end, you will report your results. \n",
    "\n",
    "In summary, you will need to do the following:\n",
    "\n",
    "- Code up gradient descent with Cross Validation for Multi Linear Regression\n",
    "- Find the best working learning rate and number of iterations setup.\n",
    "- Report the MSE loss periodically during training in folds (For example, if you are training for 1000 steps, you can print MSE loss for each 100 steps. If you are training for 100000 steps ( which you can, if you'd like ), you can print MSE loss for each 10000 steps. In total, if you print the loss 10 times periodically for each fold, it's fine ).\n",
    "- Save the final MSE results on the testing set on each fold in an array. Print the average testing MSE losses at the end of the algorithm. Additionally, print the variance of the testing MSE losses. \n",
    "\n",
    "In this part, we are giving you only the load_data function, so you are flying solo for Multi Linear Regression! It is up to you to find the working learning rate and number of iterations setup. In addition to the libraries imported for Part 1, you are allowed to use sklearn for fetching dataset (which is already done for you), and the KFold class for the cross-validation. Other than that, you are not allowed to use sklearn or any other additional libraries.\n",
    "\n"
   ]
  },
  {
   "cell_type": "code",
   "execution_count": 4,
   "metadata": {},
   "outputs": [],
   "source": [
    "from sklearn.datasets import fetch_california_housing\n",
    "from sklearn.model_selection import KFold\n",
    "def load_data():\n",
    "    data= fetch_california_housing()\n",
    "    print(\"Features of Boston Housing Prices dataset: \", data.get(\"feature_names\"))\n",
    "    print(\"Shape of the X: \", data.data.shape)\n",
    "    print(\"Shape of the Y: \", data.target.shape)\n",
    "    return data.data, data.target\n",
    "\n",
    "\n",
    "def multiple_gradient_descent_KFold(x,y):\n",
    "    learning_rate = 0.00000028\n",
    "    max_its = 200001\n",
    "    kf = KFold()\n",
    "    beta0 = np.random.rand(9,1)\n",
    "    ones = np.ones((x.shape[0],1))\n",
    "    x = np.append(ones,x,axis=1)\n",
    "    test_val = np.double([])\n",
    "    for train_index, test_index in kf.split(x):\n",
    "        x_train, x_test = x[train_index], x[test_index]\n",
    "        y_train, y_test = y[train_index], y[test_index]\n",
    "        y_train = y_train.reshape(y_train.shape[0],1)\n",
    "        beta = beta0\n",
    "        \n",
    "        for k in range(0,max_its):\n",
    "            gradient =  -2* np.transpose(x_train) @ (y_train - x_train @ beta)/ x_train.shape[0]\n",
    "            beta = beta - learning_rate*gradient\n",
    "            if not k%20000:\n",
    "                print(np.mean((y_train - x_train @ beta)**2))\n",
    "        test_val = np.append(test_val,np.mean((y_test - x_test @ beta)**2))\n",
    "        print(\"test outputs: \",test_val)\n",
    "    print(\"Avg test loss: \",np.mean(test_val))"
   ]
  },
  {
   "cell_type": "code",
   "execution_count": 5,
   "metadata": {
    "scrolled": false
   },
   "outputs": [
    {
     "name": "stdout",
     "output_type": "stream",
     "text": [
      "Features of Boston Housing Prices dataset:  ['MedInc', 'HouseAge', 'AveRooms', 'AveBedrms', 'Population', 'AveOccup', 'Latitude', 'Longitude']\n",
      "Shape of the X:  (20640, 8)\n",
      "Shape of the Y:  (20640,)\n",
      "154971.11679454878\n",
      "10.2554448190753\n",
      "2.523697388608143\n",
      "1.8249793250742754\n",
      "1.6992174572955674\n",
      "1.6251706366292882\n",
      "1.5601270777972756\n",
      "1.5002096530001898\n",
      "1.4447380996691406\n",
      "1.3933260796883127\n",
      "1.3456412115556866\n",
      "test outputs:  [3.55129703]\n",
      "121726.10454662955\n",
      "8.55999760848783\n",
      "2.5300581655248617\n",
      "2.060933088754601\n",
      "1.891202557592065\n",
      "1.7551100044763097\n",
      "1.636677066475853\n",
      "1.5328827541378864\n",
      "1.441687339077798\n",
      "1.3613757240565396\n",
      "1.2904826770851474\n",
      "test outputs:  [3.55129703 2.4835803 ]\n",
      "87494.17178650884\n",
      "8.394559912439625\n",
      "2.3588506439994896\n",
      "1.9233334996259153\n",
      "1.7869066673908072\n",
      "1.678252137307508\n",
      "1.581940271433818\n",
      "1.4958716429169054\n",
      "1.4188019197249133\n",
      "1.349674129375858\n",
      "1.2875652607493377\n",
      "test outputs:  [3.55129703 2.4835803  2.71104482]\n",
      "95684.40639700646\n",
      "8.798770318275565\n",
      "2.526763803706639\n",
      "2.0374884206501727\n",
      "1.8777532271648538\n",
      "1.7518686351139279\n",
      "1.6416725517300477\n",
      "1.5443532399984075\n",
      "1.4581917520695706\n",
      "1.3817453914619533\n",
      "1.3137718812059158\n",
      "test outputs:  [3.55129703 2.4835803  2.71104482 2.18403284]\n",
      "136725.5458491359\n",
      "16.04442710627577\n",
      "9.785156924656144\n",
      "6.247722393951846\n",
      "4.225582513516422\n",
      "3.052558866331192\n",
      "2.3576198552430183\n",
      "1.933689020607595\n",
      "1.6649376097679884\n",
      "1.4863623479778771\n",
      "1.3613013396384566\n",
      "test outputs:  [3.55129703 2.4835803  2.71104482 2.18403284 3.08195456]\n",
      "Avg test loss:  2.8023819097608547\n"
     ]
    }
   ],
   "source": [
    "x, y = load_data()\n",
    "multiple_gradient_descent_KFold(x, y)"
   ]
  },
  {
   "cell_type": "markdown",
   "metadata": {},
   "source": [
    "# Part 3: Probability Questions (20 Points)\n",
    "\n",
    "In this part, you are given 2 probability questions that you will solve by hand ( You do not code anything ). You can either share your answer via Markdown Cells, or you can insert an image of your hand-written solution on a paper. To insert an image, after changing the cell type to Markdown, click Edit -> Insert Image. This way, you do not have to keep the image in local, it will be directly embedded in the notebook file. Try to keep your answers as illustrative as possible."
   ]
  },
  {
   "cell_type": "markdown",
   "metadata": {},
   "source": [
    "### Question 1\n",
    "\n",
    "Istanbul is a busy city, and unfortunately busy cities tend to have busy traffics. In Istanbul, one in every two days, there is a traffic jam on the main roads, if the weather is sunny. However if it rains, it gets worse! Three in every four rainy days, main roads are jammed with traffic! \n",
    "\n",
    "Our beloved lecturer, Assoc. Prof. Yusuf Yaslan is a very responsible lecturer, however sometimes life happens, and he might arrive late to the class. If the weather is rainy and there is a traffic jam, the probability of him being late is 20%. Otherwise, he is late to only 5% of the classes.\n",
    "\n",
    "Given a randomly selected day:\n",
    "\n",
    "- What is the probability that the weather is rainy, there is no traffic jam and Prof. Yaslan is NOT late to the class?\n",
    "-\n"
   ]
  },
  {
   "cell_type": "markdown",
   "metadata": {},
   "source": [
    "### Answer\n",
    "\n",
    "|R = rainy day |T = there is a traffic jam|L = being late|\n",
    "|:-|:-|:-|\n",
    "| P(L=1/T=1,R=1) = 0.20 | P(T=1/R=1) = 0.75       | P(R=1) = 0.5 |\n",
    "| P(L=1/T=0,R=1) = 0.05 | P(T=0/R=1) = 0.25 | |\n",
    "| P(L=1/T=0,R=0) = 0.05 | P(T=0/R=0) = 0.5        | P(R=0) = 0.5 |\n",
    "| P(L=1/T=1,R=0) = 0.05 | P(T=1/R=0) = 0.5 | |\n",
    "\n",
    "posibilities are given.\n",
    "\n",
    "Probability of rainy(R=1) and no traffic jam (T=0) and no late(L=0) => <br>\n",
    "P(L=0,T=0,R=1) = ?<br>\n",
    "<br>\n",
    "applying the bayes formula<br>\n",
    "P(L=0,T=0,R=1) = P(L=0/T=0,R=1)P(T=0,R=1) =<br>\n",
    "\n",
    "P(L=0/T=0,R=1)P(T=0/R=1)P(R=1)<br>\n",
    "\n",
    "P(T=0/R=1) and P(R=1) is known.<br>\n",
    "\n",
    "P(L=0/T=0,R=1) + P(L=1/T=0,R=1) = 1<br>\n",
    "P(L=0/T=0,R=1) + 0.05 = 1<br>\n",
    "<br>\n",
    "P(L=0/T=0,R=1) = 0.95<br>\n",
    "P(T=0/R=1) = 0.25<br>\n",
    "P(R=1) = 0.5<br>\n",
    "<br>\n",
    "P(L=0/T=0,R=1)P(T=0/R=1)P(R=1) = (0.95) * (0.25) * (0.5) = 0.11875\n"
   ]
  },
  {
   "cell_type": "markdown",
   "metadata": {},
   "source": [
    "### Question 2\n",
    "\n",
    "I am a magician, and as every magician, I have a tricky coin that results in heads 75% of the times when tossed instead of the usual 50%. However, one day, I put this tricky coin next to a regular coin and left it there, and now I can't remember which one is which! Nevertheless, I took one of the coins, not knowing if I took tricky coin or the regular coin. You can assume that the regular coin has a 50% chance of landing on heads. Now I toss the coin I took 10 times and record the results.\n",
    "\n",
    "- What is the probability of getting exactly 4 heads?\n",
    "- What is the probability of getting at least 9 heads?\n"
   ]
  },
  {
   "cell_type": "markdown",
   "metadata": {},
   "source": [
    "### Answer\n",
    "\n",
    "T = trikcy coin  H = head\n",
    "<br><br>\n",
    "P(T=1) = 0.5 $\\;\\;\\;\\;$ P(T=0) = 0.5 <br>\n",
    "P(H=1/T=1) = 0.75 <br>\n",
    "P(H=1/T=0) = 0.5  <br>\n",
    "\n",
    "are given posibilities <br>\n",
    "- getting exactly 4 heads \\\n",
    "    I took a coin and toss 10 times.<br><br>\n",
    "    If I took tricky,<br>\n",
    "    $P(T=1)P(H=1/T=1)^4 P(H=0/T=1)^6 {10 \\choose 4} $ <br>\n",
    "    $0.5 * 0.75^4 * 0.25^6 * 210 = 0.008111 $ <br>\n",
    "    <br>\n",
    "    if I took regular coin,<br>\n",
    "    $P(T=0)P(H=1/T=0)^4 P(H=0/T=0)^6 {10 \\choose 4} $ <br>\n",
    "    $0.5 * 0.5^4 * 0.5^6 * 210 = 0.102539 $ <br>\n",
    "    <br>\n",
    "    sum of two posibilities = $0.11065$ \n",
    "    <br><br>\n",
    "- getting at least 9 heads \\\n",
    "    If I took tricky, \\\n",
    "    $P(T=1) (P(H=1/T=1)^9 P(H=0/T=1)^1 {10 \\choose 1} + P(H=1/T=1)^{10})$ <br>\n",
    "    $0.5 *( 0.75^9 * 0.25^1 * 10 + 0.75^{10}) = 0.1220126 $ <br>\n",
    "    <br>\n",
    "    if I took regular coin,<br>\n",
    "    $P(T=0) (P(H=1/T=0)^9 P(H=0/T=0)^1 {10 \\choose 1} + P(H=1/T=0)^{10})$ <br>\n",
    "    $0.5 *( 0.5^9 * 0.5^1 * 10 + 0.5^{10}) = 0.005371 $ <br>\n",
    "    <br>\n",
    "    sum of two posibilities = $0.1273837$ \n",
    "    \n"
   ]
  },
  {
   "cell_type": "markdown",
   "metadata": {},
   "source": [
    "### Bilal İhsan Tuncer \n",
    "#### 150190089"
   ]
  }
 ],
 "metadata": {
  "kernelspec": {
   "display_name": "Python 3 (ipykernel)",
   "language": "python",
   "name": "python3"
  },
  "language_info": {
   "codemirror_mode": {
    "name": "ipython",
    "version": 3
   },
   "file_extension": ".py",
   "mimetype": "text/x-python",
   "name": "python",
   "nbconvert_exporter": "python",
   "pygments_lexer": "ipython3",
   "version": "3.10.4"
  },
  "vscode": {
   "interpreter": {
    "hash": "916dbcbb3f70747c44a77c7bcd40155683ae19c65e1c03b4aa3499c5328201f1"
   }
  }
 },
 "nbformat": 4,
 "nbformat_minor": 4
}
